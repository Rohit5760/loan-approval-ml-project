{
 "cells": [
  {
   "cell_type": "markdown",
   "id": "2f4bbaee-330e-4236-9093-7116812de0fe",
   "metadata": {},
   "source": [
    "# Loan Approval Prediction Model"
   ]
  },
  {
   "cell_type": "markdown",
   "id": "d8c2149a-6884-4dd3-b708-967d045c59d4",
   "metadata": {},
   "source": [
    "### Models used: \n",
    "1. Logistic Regression Model\n",
    "2. KNN Model\n",
    "3. Random Forest Model"
   ]
  },
  {
   "cell_type": "markdown",
   "id": "0cbd5cd1-9f7f-4070-b920-015359e115bb",
   "metadata": {},
   "source": [
    "### 1. Loading, Understanding and cleaning the data"
   ]
  },
  {
   "cell_type": "markdown",
   "id": "29b388e2-93dd-409a-bd85-d2e7ade472fa",
   "metadata": {},
   "source": [
    "#### 1.1 Loading the data"
   ]
  },
  {
   "cell_type": "code",
   "execution_count": 1,
   "id": "3f927ac6-e8c2-48ed-9e35-0d17e7397b3d",
   "metadata": {},
   "outputs": [],
   "source": [
    "#Importing necessary libraries\n",
    "import numpy as np\n",
    "import pandas as pd\n",
    "#For visuals \n",
    "import matplotlib.pyplot as plt\n",
    "import seaborn as sns"
   ]
  },
  {
   "cell_type": "code",
   "execution_count": 2,
   "id": "949517f1-f520-418a-9d46-d5f4081fb0ba",
   "metadata": {},
   "outputs": [
    {
     "name": "stdout",
     "output_type": "stream",
     "text": [
      "<class 'pandas.core.frame.DataFrame'>\n",
      "RangeIndex: 614 entries, 0 to 613\n",
      "Data columns (total 13 columns):\n",
      " #   Column             Non-Null Count  Dtype  \n",
      "---  ------             --------------  -----  \n",
      " 0   Loan_ID            614 non-null    object \n",
      " 1   Gender             601 non-null    object \n",
      " 2   Married            611 non-null    object \n",
      " 3   Dependents         599 non-null    object \n",
      " 4   Education          614 non-null    object \n",
      " 5   Self_Employed      582 non-null    object \n",
      " 6   ApplicantIncome    614 non-null    int64  \n",
      " 7   CoapplicantIncome  614 non-null    float64\n",
      " 8   LoanAmount         592 non-null    float64\n",
      " 9   Loan_Amount_Term   600 non-null    float64\n",
      " 10  Credit_History     564 non-null    float64\n",
      " 11  Property_Area      614 non-null    object \n",
      " 12  Loan_Status        614 non-null    object \n",
      "dtypes: float64(4), int64(1), object(8)\n",
      "memory usage: 62.5+ KB\n"
     ]
    }
   ],
   "source": [
    "#Understanding the data\n",
    "data=pd.read_csv(\"Train_data.csv\")\n",
    "data.info()"
   ]
  },
  {
   "cell_type": "markdown",
   "id": "77242284-cefc-46a3-90db-9d33698f5e42",
   "metadata": {},
   "source": [
    "#### 1.2 Cleaning the data"
   ]
  },
  {
   "cell_type": "code",
   "execution_count": 3,
   "id": "e807455d-e7ab-4d00-94be-1bb1c5929dd3",
   "metadata": {},
   "outputs": [
    {
     "data": {
      "text/plain": [
       "Loan_ID               0\n",
       "Gender               13\n",
       "Married               3\n",
       "Dependents           15\n",
       "Education             0\n",
       "Self_Employed        32\n",
       "ApplicantIncome       0\n",
       "CoapplicantIncome     0\n",
       "LoanAmount           22\n",
       "Loan_Amount_Term     14\n",
       "Credit_History       50\n",
       "Property_Area         0\n",
       "Loan_Status           0\n",
       "dtype: int64"
      ]
     },
     "execution_count": 3,
     "metadata": {},
     "output_type": "execute_result"
    }
   ],
   "source": [
    "##column 1,2,3,5,8,9,10 contain null values. Let's see how many.\n",
    "data.isnull().sum()"
   ]
  },
  {
   "cell_type": "code",
   "execution_count": 4,
   "id": "6ffd62c6-6f60-4373-8b16-6507ca90ac82",
   "metadata": {},
   "outputs": [
    {
     "name": "stdout",
     "output_type": "stream",
     "text": [
      "Unique values of Loan_ID : ['LP001002' 'LP001003' 'LP001005' 'LP001006' 'LP001008' 'LP001011'\n",
      " 'LP001013' 'LP001014' 'LP001018' 'LP001020' 'LP001024' 'LP001027'\n",
      " 'LP001028' 'LP001029' 'LP001030' 'LP001032' 'LP001034' 'LP001036'\n",
      " 'LP001038' 'LP001041' 'LP001043' 'LP001046' 'LP001047' 'LP001050'\n",
      " 'LP001052' 'LP001066' 'LP001068' 'LP001073' 'LP001086' 'LP001087'\n",
      " 'LP001091' 'LP001095' 'LP001097' 'LP001098' 'LP001100' 'LP001106'\n",
      " 'LP001109' 'LP001112' 'LP001114' 'LP001116' 'LP001119' 'LP001120'\n",
      " 'LP001123' 'LP001131' 'LP001136' 'LP001137' 'LP001138' 'LP001144'\n",
      " 'LP001146' 'LP001151' 'LP001155' 'LP001157' 'LP001164' 'LP001179'\n",
      " 'LP001186' 'LP001194' 'LP001195' 'LP001197' 'LP001198' 'LP001199'\n",
      " 'LP001205' 'LP001206' 'LP001207' 'LP001213' 'LP001222' 'LP001225'\n",
      " 'LP001228' 'LP001233' 'LP001238' 'LP001241' 'LP001243' 'LP001245'\n",
      " 'LP001248' 'LP001250' 'LP001253' 'LP001255' 'LP001256' 'LP001259'\n",
      " 'LP001263' 'LP001264' 'LP001265' 'LP001266' 'LP001267' 'LP001273'\n",
      " 'LP001275' 'LP001279' 'LP001280' 'LP001282' 'LP001289' 'LP001310'\n",
      " 'LP001316' 'LP001318' 'LP001319' 'LP001322' 'LP001325' 'LP001326'\n",
      " 'LP001327' 'LP001333' 'LP001334' 'LP001343' 'LP001345' 'LP001349'\n",
      " 'LP001350' 'LP001356' 'LP001357' 'LP001367' 'LP001369' 'LP001370'\n",
      " 'LP001379' 'LP001384' 'LP001385' 'LP001387' 'LP001391' 'LP001392'\n",
      " 'LP001398' 'LP001401' 'LP001404' 'LP001405' 'LP001421' 'LP001422'\n",
      " 'LP001426' 'LP001430' 'LP001431' 'LP001432' 'LP001439' 'LP001443'\n",
      " 'LP001448' 'LP001449' 'LP001451' 'LP001465' 'LP001469' 'LP001473'\n",
      " 'LP001478' 'LP001482' 'LP001487' 'LP001488' 'LP001489' 'LP001491'\n",
      " 'LP001492' 'LP001493' 'LP001497' 'LP001498' 'LP001504' 'LP001507'\n",
      " 'LP001508' 'LP001514' 'LP001516' 'LP001518' 'LP001519' 'LP001520'\n",
      " 'LP001528' 'LP001529' 'LP001531' 'LP001532' 'LP001535' 'LP001536'\n",
      " 'LP001541' 'LP001543' 'LP001546' 'LP001552' 'LP001560' 'LP001562'\n",
      " 'LP001565' 'LP001570' 'LP001572' 'LP001574' 'LP001577' 'LP001578'\n",
      " 'LP001579' 'LP001580' 'LP001581' 'LP001585' 'LP001586' 'LP001594'\n",
      " 'LP001603' 'LP001606' 'LP001608' 'LP001610' 'LP001616' 'LP001630'\n",
      " 'LP001633' 'LP001634' 'LP001636' 'LP001637' 'LP001639' 'LP001640'\n",
      " 'LP001641' 'LP001643' 'LP001644' 'LP001647' 'LP001653' 'LP001656'\n",
      " 'LP001657' 'LP001658' 'LP001664' 'LP001665' 'LP001666' 'LP001669'\n",
      " 'LP001671' 'LP001673' 'LP001674' 'LP001677' 'LP001682' 'LP001688'\n",
      " 'LP001691' 'LP001692' 'LP001693' 'LP001698' 'LP001699' 'LP001702'\n",
      " 'LP001708' 'LP001711' 'LP001713' 'LP001715' 'LP001716' 'LP001720'\n",
      " 'LP001722' 'LP001726' 'LP001732' 'LP001734' 'LP001736' 'LP001743'\n",
      " 'LP001744' 'LP001749' 'LP001750' 'LP001751' 'LP001754' 'LP001758'\n",
      " 'LP001760' 'LP001761' 'LP001765' 'LP001768' 'LP001770' 'LP001776'\n",
      " 'LP001778' 'LP001784' 'LP001786' 'LP001788' 'LP001790' 'LP001792'\n",
      " 'LP001798' 'LP001800' 'LP001806' 'LP001807' 'LP001811' 'LP001813'\n",
      " 'LP001814' 'LP001819' 'LP001824' 'LP001825' 'LP001835' 'LP001836'\n",
      " 'LP001841' 'LP001843' 'LP001844' 'LP001846' 'LP001849' 'LP001854'\n",
      " 'LP001859' 'LP001864' 'LP001865' 'LP001868' 'LP001870' 'LP001871'\n",
      " 'LP001872' 'LP001875' 'LP001877' 'LP001882' 'LP001883' 'LP001884'\n",
      " 'LP001888' 'LP001891' 'LP001892' 'LP001894' 'LP001896' 'LP001900'\n",
      " 'LP001903' 'LP001904' 'LP001907' 'LP001908' 'LP001910' 'LP001914'\n",
      " 'LP001915' 'LP001917' 'LP001922' 'LP001924' 'LP001925' 'LP001926'\n",
      " 'LP001931' 'LP001935' 'LP001936' 'LP001938' 'LP001940' 'LP001945'\n",
      " 'LP001947' 'LP001949' 'LP001953' 'LP001954' 'LP001955' 'LP001963'\n",
      " 'LP001964' 'LP001972' 'LP001974' 'LP001977' 'LP001978' 'LP001990'\n",
      " 'LP001993' 'LP001994' 'LP001996' 'LP001998' 'LP002002' 'LP002004'\n",
      " 'LP002006' 'LP002008' 'LP002024' 'LP002031' 'LP002035' 'LP002036'\n",
      " 'LP002043' 'LP002050' 'LP002051' 'LP002053' 'LP002054' 'LP002055'\n",
      " 'LP002065' 'LP002067' 'LP002068' 'LP002082' 'LP002086' 'LP002087'\n",
      " 'LP002097' 'LP002098' 'LP002100' 'LP002101' 'LP002103' 'LP002106'\n",
      " 'LP002110' 'LP002112' 'LP002113' 'LP002114' 'LP002115' 'LP002116'\n",
      " 'LP002119' 'LP002126' 'LP002128' 'LP002129' 'LP002130' 'LP002131'\n",
      " 'LP002137' 'LP002138' 'LP002139' 'LP002140' 'LP002141' 'LP002142'\n",
      " 'LP002143' 'LP002144' 'LP002149' 'LP002151' 'LP002158' 'LP002160'\n",
      " 'LP002161' 'LP002170' 'LP002175' 'LP002178' 'LP002180' 'LP002181'\n",
      " 'LP002187' 'LP002188' 'LP002190' 'LP002191' 'LP002194' 'LP002197'\n",
      " 'LP002201' 'LP002205' 'LP002209' 'LP002211' 'LP002219' 'LP002223'\n",
      " 'LP002224' 'LP002225' 'LP002226' 'LP002229' 'LP002231' 'LP002234'\n",
      " 'LP002236' 'LP002237' 'LP002239' 'LP002243' 'LP002244' 'LP002250'\n",
      " 'LP002255' 'LP002262' 'LP002263' 'LP002265' 'LP002266' 'LP002272'\n",
      " 'LP002277' 'LP002281' 'LP002284' 'LP002287' 'LP002288' 'LP002296'\n",
      " 'LP002297' 'LP002300' 'LP002301' 'LP002305' 'LP002308' 'LP002314'\n",
      " 'LP002315' 'LP002317' 'LP002318' 'LP002319' 'LP002328' 'LP002332'\n",
      " 'LP002335' 'LP002337' 'LP002341' 'LP002342' 'LP002345' 'LP002347'\n",
      " 'LP002348' 'LP002357' 'LP002361' 'LP002362' 'LP002364' 'LP002366'\n",
      " 'LP002367' 'LP002368' 'LP002369' 'LP002370' 'LP002377' 'LP002379'\n",
      " 'LP002386' 'LP002387' 'LP002390' 'LP002393' 'LP002398' 'LP002401'\n",
      " 'LP002403' 'LP002407' 'LP002408' 'LP002409' 'LP002418' 'LP002422'\n",
      " 'LP002424' 'LP002429' 'LP002434' 'LP002435' 'LP002443' 'LP002444'\n",
      " 'LP002446' 'LP002447' 'LP002448' 'LP002449' 'LP002453' 'LP002455'\n",
      " 'LP002459' 'LP002467' 'LP002472' 'LP002473' 'LP002478' 'LP002484'\n",
      " 'LP002487' 'LP002489' 'LP002493' 'LP002494' 'LP002500' 'LP002501'\n",
      " 'LP002502' 'LP002505' 'LP002515' 'LP002517' 'LP002519' 'LP002522'\n",
      " 'LP002524' 'LP002527' 'LP002529' 'LP002530' 'LP002531' 'LP002533'\n",
      " 'LP002534' 'LP002536' 'LP002537' 'LP002541' 'LP002543' 'LP002544'\n",
      " 'LP002545' 'LP002547' 'LP002555' 'LP002556' 'LP002560' 'LP002562'\n",
      " 'LP002571' 'LP002582' 'LP002585' 'LP002586' 'LP002587' 'LP002588'\n",
      " 'LP002600' 'LP002602' 'LP002603' 'LP002606' 'LP002615' 'LP002618'\n",
      " 'LP002619' 'LP002622' 'LP002624' 'LP002625' 'LP002626' 'LP002634'\n",
      " 'LP002637' 'LP002640' 'LP002643' 'LP002648' 'LP002652' 'LP002659'\n",
      " 'LP002670' 'LP002682' 'LP002683' 'LP002684' 'LP002689' 'LP002690'\n",
      " 'LP002692' 'LP002693' 'LP002697' 'LP002699' 'LP002705' 'LP002706'\n",
      " 'LP002714' 'LP002716' 'LP002717' 'LP002720' 'LP002723' 'LP002729'\n",
      " 'LP002731' 'LP002732' 'LP002734' 'LP002738' 'LP002739' 'LP002740'\n",
      " 'LP002741' 'LP002743' 'LP002753' 'LP002755' 'LP002757' 'LP002767'\n",
      " 'LP002768' 'LP002772' 'LP002776' 'LP002777' 'LP002778' 'LP002784'\n",
      " 'LP002785' 'LP002788' 'LP002789' 'LP002792' 'LP002794' 'LP002795'\n",
      " 'LP002798' 'LP002804' 'LP002807' 'LP002813' 'LP002820' 'LP002821'\n",
      " 'LP002832' 'LP002833' 'LP002836' 'LP002837' 'LP002840' 'LP002841'\n",
      " 'LP002842' 'LP002847' 'LP002855' 'LP002862' 'LP002863' 'LP002868'\n",
      " 'LP002872' 'LP002874' 'LP002877' 'LP002888' 'LP002892' 'LP002893'\n",
      " 'LP002894' 'LP002898' 'LP002911' 'LP002912' 'LP002916' 'LP002917'\n",
      " 'LP002925' 'LP002926' 'LP002928' 'LP002931' 'LP002933' 'LP002936'\n",
      " 'LP002938' 'LP002940' 'LP002941' 'LP002943' 'LP002945' 'LP002948'\n",
      " 'LP002949' 'LP002950' 'LP002953' 'LP002958' 'LP002959' 'LP002960'\n",
      " 'LP002961' 'LP002964' 'LP002974' 'LP002978' 'LP002979' 'LP002983'\n",
      " 'LP002984' 'LP002990']\n",
      "Unique values of Gender : ['Male' 'Female' nan]\n",
      "Unique values of Married : ['No' 'Yes' nan]\n",
      "Unique values of Dependents : ['0' '1' '2' '3+' nan]\n",
      "Unique values of Education : ['Graduate' 'Not Graduate']\n",
      "Unique values of Self_Employed : ['No' 'Yes' nan]\n",
      "Unique values of ApplicantIncome : [ 5849  4583  3000  2583  6000  5417  2333  3036  4006 12841  3200  2500\n",
      "  3073  1853  1299  4950  3596  3510  4887  2600  7660  5955  3365  3717\n",
      "  9560  2799  4226  1442  3750  4166  3167  4692  3500 12500  2275  1828\n",
      "  3667  3748  3600  1800  2400  3941  4695  3410  5649  5821  2645  4000\n",
      "  1928  3086  4230  4616 11500  2708  2132  3366  8080  3357  3029  2609\n",
      "  4945  5726 10750  7100  4300  3208  1875  4755  5266  1000  3333  3846\n",
      "  2395  1378  3988  2366  8566  5695  2958  6250  3273  4133  3620  6782\n",
      "  2484  1977  4188  1759  4288  4843 13650  4652  3816  3052 11417  7333\n",
      "  3800  2071  5316  2929  3572  7451  5050 14583  2214  5568 10408  5667\n",
      "  2137  2957  3692 23803  3865 10513  6080 20166  2014  2718  3459  4895\n",
      "  3316 14999  4200  5042  6950  2698 11757  2330 14866  1538 10000  4860\n",
      "  6277  2577  9166  2281  3254 39999  9538  2980  1863  7933  3089  4167\n",
      "  9323  3707  2439  2237  8000  1820 51763  3522  5708  4344  3497  2045\n",
      "  5516  6400  1916  4600 33846  3625 39147  2178  2383   674  9328  4885\n",
      " 12000  6033  3858  4191  3125  8333  1907  3416 11000  4923  3992  3917\n",
      "  4408  3244  3975  2479  3418  3430  7787  5703  3173  3850   150  3727\n",
      "  5000  4283  2221  4009  2971  7578  3250  4735  4758  2491  3716  3189\n",
      "  3155  5500  5746  3463  3812  3315  5819  2510  2965  3406  6050  9703\n",
      "  6608  2882  1809  1668  3427  2661 16250  3083  6045  5250 14683  4931\n",
      "  6083  2060  3481  7200  5166  4095  4708  4333  2876  3237 11146  2833\n",
      "  2620  3900  2750  3993  3103  4100  4053  3927  2301  1811 20667  3158\n",
      "  3704  4124  9508  3075  4400  3153  4416  6875  4666  2875  1625  2000\n",
      "  3762 20233  7667  2917  2927  2507  2473  3399  2058  3541  4342  3601\n",
      "  3166 15000  8666  4917  5818  4384  2935 63337  9833  5503  1830  4160\n",
      "  2647  2378  4554  2499  3523  6333  2625  9083  8750  2666  2423  3813\n",
      "  3875  5167  4723  4750  3013  6822  6216  5124  6325 19730 15759  5185\n",
      "  3062  2764  4817  4310  3069  5391  5941  7167  4566  2346  3010  5488\n",
      "  9167  9504  1993  3100  3276  3180  3033  3902  1500  2889  2755  1963\n",
      "  7441  4547  2167  2213  8300 81000  3867  6256  6096  2253  2149  2995\n",
      "  1600  1025  3246  5829  2720  7250 14880  4606  5935  2920  2717  8624\n",
      "  6500 12876  2425 10047  1926 10416  7142  3660  7901  4707 37719  3466\n",
      "  3539  3340  2769  2309  1958  3948  2483  7085  3859  4301  3708  4354\n",
      "  8334  2083  7740  3015  5191  2947 16692   210  3450  2653  4691  5532\n",
      " 16525  6700  2873 16667  4350  3095 10833  3547 18333  2435  2699  5333\n",
      "  3691 17263  3597  3326  4625  2895  6283   645  3159  4865  4050  3814\n",
      " 20833  3583 13262  3598  6065  3283  2130  5815  2031  3074  4683  3400\n",
      "  2192  5677  7948  4680 17500  3775  5285  2679  6783  4281  3588 11250\n",
      " 18165  2550  6133  3617  6417  4608  2138  3652  2239  3017  2768  3358\n",
      "  2526  2785  6633  2492  2454  3593  5468  2667 10139  3887  4180  3675\n",
      " 19484  5923  5800  8799  4467  3417  5116 16666  6125  6406  3087  3229\n",
      "  1782  3182  6540  1836  1880  2787  2297  2165  2726  9357 16120  3833\n",
      "  6383  2987  9963  5780   416  2894  3676  3987  3232  2900  4106  8072\n",
      "  7583]\n",
      "Unique values of CoapplicantIncome : [0.00000000e+00 1.50800000e+03 2.35800000e+03 4.19600000e+03\n",
      " 1.51600000e+03 2.50400000e+03 1.52600000e+03 1.09680000e+04\n",
      " 7.00000000e+02 1.84000000e+03 8.10600000e+03 2.84000000e+03\n",
      " 1.08600000e+03 3.50000000e+03 5.62500000e+03 1.91100000e+03\n",
      " 1.91700000e+03 2.92500000e+03 2.25300000e+03 1.04000000e+03\n",
      " 2.08300000e+03 3.36900000e+03 1.66700000e+03 3.00000000e+03\n",
      " 2.06700000e+03 1.33000000e+03 1.45900000e+03 7.21000000e+03\n",
      " 1.66800000e+03 1.21300000e+03 2.33600000e+03 3.44000000e+03\n",
      " 2.27500000e+03 1.64400000e+03 1.16700000e+03 1.59100000e+03\n",
      " 2.20000000e+03 2.25000000e+03 2.85900000e+03 3.79600000e+03\n",
      " 3.44900000e+03 4.59500000e+03 2.25400000e+03 3.06600000e+03\n",
      " 1.87500000e+03 1.77400000e+03 4.75000000e+03 3.02200000e+03\n",
      " 4.00000000e+03 2.16600000e+03 1.88100000e+03 2.53100000e+03\n",
      " 2.00000000e+03 2.11800000e+03 4.16700000e+03 2.90000000e+03\n",
      " 5.65400000e+03 1.82000000e+03 2.30200000e+03 9.97000000e+02\n",
      " 3.54100000e+03 3.26300000e+03 3.80600000e+03 3.58300000e+03\n",
      " 7.54000000e+02 1.03000000e+03 1.12600000e+03 3.60000000e+03\n",
      " 2.33300000e+03 4.11400000e+03 2.28300000e+03 1.39800000e+03\n",
      " 2.14200000e+03 2.66700000e+03 8.98000000e+03 2.01400000e+03\n",
      " 1.64000000e+03 3.85000000e+03 2.56900000e+03 1.92900000e+03\n",
      " 7.75000000e+03 1.43000000e+03 2.03400000e+03 4.48600000e+03\n",
      " 1.42500000e+03 1.66600000e+03 8.30000000e+02 3.75000000e+03\n",
      " 1.04100000e+03 1.28000000e+03 1.44700000e+03 3.16600000e+03\n",
      " 3.33300000e+03 1.76900000e+03 7.36000000e+02 1.96400000e+03\n",
      " 1.61900000e+03 1.13000000e+04 1.45100000e+03 7.25000000e+03\n",
      " 5.06300000e+03 2.13800000e+03 5.29600000e+03 2.58300000e+03\n",
      " 2.36500000e+03 2.81600000e+03 2.50000000e+03 1.08300000e+03\n",
      " 1.25000000e+03 3.02100000e+03 9.83000000e+02 1.80000000e+03\n",
      " 1.77500000e+03 2.38300000e+03 1.71700000e+03 2.79100000e+03\n",
      " 1.01000000e+03 1.69500000e+03 2.05400000e+03 2.59800000e+03\n",
      " 1.77900000e+03 1.26000000e+03 5.00000000e+03 1.98300000e+03\n",
      " 5.70100000e+03 1.30000000e+03 4.41700000e+03 4.33300000e+03\n",
      " 1.84300000e+03 1.86800000e+03 3.89000000e+03 2.16700000e+03\n",
      " 7.10100000e+03 2.10000000e+03 4.25000000e+03 2.20900000e+03\n",
      " 3.44700000e+03 1.38700000e+03 1.81100000e+03 1.56000000e+03\n",
      " 1.85700000e+03 2.22300000e+03 1.84200000e+03 3.27400000e+03\n",
      " 2.42600000e+03 8.00000000e+02 9.85799988e+02 3.05300000e+03\n",
      " 2.41600000e+03 3.33400000e+03 2.54100000e+03 2.93400000e+03\n",
      " 1.75000000e+03 1.80300000e+03 1.86300000e+03 2.40500000e+03\n",
      " 2.13400000e+03 1.89000000e+02 1.59000000e+03 2.98500000e+03\n",
      " 4.98300000e+03 2.16000000e+03 2.45100000e+03 1.79300000e+03\n",
      " 1.83300000e+03 4.49000000e+03 6.88000000e+02 4.60000000e+03\n",
      " 1.58700000e+03 1.22900000e+03 2.33000000e+03 2.45800000e+03\n",
      " 3.23000000e+03 2.16800000e+03 4.58300000e+03 6.25000000e+03\n",
      " 5.05000000e+02 3.16700000e+03 3.66700000e+03 3.03300000e+03\n",
      " 5.26600000e+03 7.87300000e+03 1.98700000e+03 9.23000000e+02\n",
      " 4.99600000e+03 4.23200000e+03 1.60000000e+03 3.13600000e+03\n",
      " 2.41700000e+03 2.11500000e+03 1.62500000e+03 1.40000000e+03\n",
      " 4.84000000e+02 2.00000000e+04 2.40000000e+03 2.03300000e+03\n",
      " 3.23700000e+03 2.77300000e+03 1.41700000e+03 1.71900000e+03\n",
      " 4.30000000e+03 1.61200008e+01 2.34000000e+03 1.85100000e+03\n",
      " 1.12500000e+03 5.06400000e+03 1.99300000e+03 8.33300000e+03\n",
      " 1.21000000e+03 1.37600000e+03 1.71000000e+03 1.54200000e+03\n",
      " 1.25500000e+03 1.45600000e+03 1.73300000e+03 2.46600000e+03\n",
      " 4.08300000e+03 2.18800000e+03 1.66400000e+03 2.91700000e+03\n",
      " 2.07900000e+03 1.50000000e+03 4.64800000e+03 1.01400000e+03\n",
      " 1.87200000e+03 1.60300000e+03 3.15000000e+03 2.43600000e+03\n",
      " 2.78500000e+03 1.13100000e+03 2.15700000e+03 9.13000000e+02\n",
      " 1.70000000e+03 2.85700000e+03 4.41600000e+03 3.68300000e+03\n",
      " 5.62400000e+03 5.30200000e+03 1.48300000e+03 6.66700000e+03\n",
      " 3.01300000e+03 1.28700000e+03 2.00400000e+03 2.03500000e+03\n",
      " 6.66600000e+03 3.66600000e+03 3.42800000e+03 1.63200000e+03\n",
      " 1.91500000e+03 1.74200000e+03 1.42400000e+03 7.16600000e+03\n",
      " 2.08700000e+03 1.30200000e+03 5.50000000e+03 2.04200000e+03\n",
      " 3.90600000e+03 5.36000000e+02 2.84500000e+03 2.52400000e+03\n",
      " 6.63000000e+02 1.95000000e+03 1.78300000e+03 2.01600000e+03\n",
      " 2.37500000e+03 3.25000000e+03 4.26600000e+03 1.03200000e+03\n",
      " 2.66900000e+03 2.30600000e+03 2.42000000e+02 2.06400000e+03\n",
      " 4.61000000e+02 2.21000000e+03 2.73900000e+03 2.23200000e+03\n",
      " 3.38370000e+04 1.52200000e+03 3.41600000e+03 3.30000000e+03\n",
      " 1.00000000e+03 4.16670000e+04 2.79200000e+03 4.30100000e+03\n",
      " 3.80000000e+03 1.41100000e+03 2.40000000e+02]\n",
      "Unique values of LoanAmount : [ nan 128.  66. 120. 141. 267.  95. 158. 168. 349.  70. 109. 200. 114.\n",
      "  17. 125. 100.  76. 133. 115. 104. 315. 116. 112. 151. 191. 122. 110.\n",
      "  35. 201.  74. 106. 320. 144. 184.  80.  47.  75. 134.  96.  88.  44.\n",
      " 286.  97. 135. 180.  99. 165. 258. 126. 312. 136. 172.  81. 187. 113.\n",
      " 176. 130. 111. 167. 265.  50. 210. 175. 131. 188.  25. 137. 160. 225.\n",
      " 216.  94. 139. 152. 118. 185. 154.  85. 259. 194.  93. 370. 182. 650.\n",
      " 102. 290.  84. 242. 129.  30. 244. 600. 255.  98. 275. 121.  63. 700.\n",
      "  87. 101. 495.  67.  73. 260. 108.  58.  48. 164. 170.  83.  90. 166.\n",
      " 124.  55.  59. 127. 214. 240.  72.  60. 138.  42. 280. 140. 155. 123.\n",
      " 279. 192. 304. 330. 150. 207. 436.  78.  54.  89. 143. 105. 132. 480.\n",
      "  56. 159. 300. 376. 117.  71. 490. 173.  46. 228. 308. 236. 570. 380.\n",
      " 296. 156. 103.  45.  65.  53. 360.  62. 218. 178. 239. 405. 148. 190.\n",
      " 149. 153. 162. 230.  86. 234. 246. 500. 186. 119. 107. 209. 208. 243.\n",
      "  40. 250. 311. 400. 161. 196. 324. 157. 145. 181.  26. 211.   9. 205.\n",
      "  36.  61. 146. 292. 142. 350. 496. 253.]\n",
      "Unique values of Loan_Amount_Term : [360. 120. 240.  nan 180.  60. 300. 480.  36.  84.  12.]\n",
      "Unique values of Credit_History : [ 1.  0. nan]\n",
      "Unique values of Property_Area : ['Urban' 'Rural' 'Semiurban']\n",
      "Unique values of Loan_Status : ['Y' 'N']\n"
     ]
    }
   ],
   "source": [
    "#Before handling missing values, let us check if dataset is noisy i.e. if it contains any irrelavant data like ?? or ##.\n",
    "cols=data.columns\n",
    "for i in cols:\n",
    "    print(\"Unique values of\",i, \":\", data[i].unique())"
   ]
  },
  {
   "cell_type": "code",
   "execution_count": 5,
   "id": "03eb1545-8c9f-4984-99d7-6ec82cb5ab4d",
   "metadata": {},
   "outputs": [
    {
     "data": {
      "text/html": [
       "<div>\n",
       "<style scoped>\n",
       "    .dataframe tbody tr th:only-of-type {\n",
       "        vertical-align: middle;\n",
       "    }\n",
       "\n",
       "    .dataframe tbody tr th {\n",
       "        vertical-align: top;\n",
       "    }\n",
       "\n",
       "    .dataframe thead th {\n",
       "        text-align: right;\n",
       "    }\n",
       "</style>\n",
       "<table border=\"1\" class=\"dataframe\">\n",
       "  <thead>\n",
       "    <tr style=\"text-align: right;\">\n",
       "      <th></th>\n",
       "      <th>ApplicantIncome</th>\n",
       "      <th>CoapplicantIncome</th>\n",
       "      <th>LoanAmount</th>\n",
       "      <th>Loan_Amount_Term</th>\n",
       "      <th>Credit_History</th>\n",
       "    </tr>\n",
       "  </thead>\n",
       "  <tbody>\n",
       "    <tr>\n",
       "      <th>count</th>\n",
       "      <td>614.000000</td>\n",
       "      <td>614.000000</td>\n",
       "      <td>592.000000</td>\n",
       "      <td>600.00000</td>\n",
       "      <td>564.000000</td>\n",
       "    </tr>\n",
       "    <tr>\n",
       "      <th>mean</th>\n",
       "      <td>5403.459283</td>\n",
       "      <td>1621.245798</td>\n",
       "      <td>146.412162</td>\n",
       "      <td>342.00000</td>\n",
       "      <td>0.842199</td>\n",
       "    </tr>\n",
       "    <tr>\n",
       "      <th>std</th>\n",
       "      <td>6109.041673</td>\n",
       "      <td>2926.248369</td>\n",
       "      <td>85.587325</td>\n",
       "      <td>65.12041</td>\n",
       "      <td>0.364878</td>\n",
       "    </tr>\n",
       "    <tr>\n",
       "      <th>min</th>\n",
       "      <td>150.000000</td>\n",
       "      <td>0.000000</td>\n",
       "      <td>9.000000</td>\n",
       "      <td>12.00000</td>\n",
       "      <td>0.000000</td>\n",
       "    </tr>\n",
       "    <tr>\n",
       "      <th>25%</th>\n",
       "      <td>2877.500000</td>\n",
       "      <td>0.000000</td>\n",
       "      <td>100.000000</td>\n",
       "      <td>360.00000</td>\n",
       "      <td>1.000000</td>\n",
       "    </tr>\n",
       "    <tr>\n",
       "      <th>50%</th>\n",
       "      <td>3812.500000</td>\n",
       "      <td>1188.500000</td>\n",
       "      <td>128.000000</td>\n",
       "      <td>360.00000</td>\n",
       "      <td>1.000000</td>\n",
       "    </tr>\n",
       "    <tr>\n",
       "      <th>75%</th>\n",
       "      <td>5795.000000</td>\n",
       "      <td>2297.250000</td>\n",
       "      <td>168.000000</td>\n",
       "      <td>360.00000</td>\n",
       "      <td>1.000000</td>\n",
       "    </tr>\n",
       "    <tr>\n",
       "      <th>max</th>\n",
       "      <td>81000.000000</td>\n",
       "      <td>41667.000000</td>\n",
       "      <td>700.000000</td>\n",
       "      <td>480.00000</td>\n",
       "      <td>1.000000</td>\n",
       "    </tr>\n",
       "  </tbody>\n",
       "</table>\n",
       "</div>"
      ],
      "text/plain": [
       "       ApplicantIncome  CoapplicantIncome  LoanAmount  Loan_Amount_Term  \\\n",
       "count       614.000000         614.000000  592.000000         600.00000   \n",
       "mean       5403.459283        1621.245798  146.412162         342.00000   \n",
       "std        6109.041673        2926.248369   85.587325          65.12041   \n",
       "min         150.000000           0.000000    9.000000          12.00000   \n",
       "25%        2877.500000           0.000000  100.000000         360.00000   \n",
       "50%        3812.500000        1188.500000  128.000000         360.00000   \n",
       "75%        5795.000000        2297.250000  168.000000         360.00000   \n",
       "max       81000.000000       41667.000000  700.000000         480.00000   \n",
       "\n",
       "       Credit_History  \n",
       "count      564.000000  \n",
       "mean         0.842199  \n",
       "std          0.364878  \n",
       "min          0.000000  \n",
       "25%          1.000000  \n",
       "50%          1.000000  \n",
       "75%          1.000000  \n",
       "max          1.000000  "
      ]
     },
     "execution_count": 5,
     "metadata": {},
     "output_type": "execute_result"
    }
   ],
   "source": [
    "#no noisy data is present in any of the columns. Now, null values of categorical data columns can be replaced by mode and null values of numerical data columns can be replaced by mean or median.\n",
    "#check if data has any outliers, if yes then median is a better choice than mean.\n",
    "data.describe()"
   ]
  },
  {
   "cell_type": "code",
   "execution_count": 6,
   "id": "417f3edd-01f9-4e55-9d79-065d210685fd",
   "metadata": {},
   "outputs": [
    {
     "name": "stdout",
     "output_type": "stream",
     "text": [
      "<class 'pandas.core.frame.DataFrame'>\n",
      "RangeIndex: 614 entries, 0 to 613\n",
      "Data columns (total 13 columns):\n",
      " #   Column             Non-Null Count  Dtype  \n",
      "---  ------             --------------  -----  \n",
      " 0   Loan_ID            614 non-null    object \n",
      " 1   Gender             601 non-null    object \n",
      " 2   Married            611 non-null    object \n",
      " 3   Dependents         599 non-null    object \n",
      " 4   Education          614 non-null    object \n",
      " 5   Self_Employed      582 non-null    object \n",
      " 6   ApplicantIncome    614 non-null    int64  \n",
      " 7   CoapplicantIncome  614 non-null    float64\n",
      " 8   LoanAmount         592 non-null    float64\n",
      " 9   Loan_Amount_Term   600 non-null    float64\n",
      " 10  Credit_History     564 non-null    float64\n",
      " 11  Property_Area      614 non-null    object \n",
      " 12  Loan_Status        614 non-null    object \n",
      "dtypes: float64(4), int64(1), object(8)\n",
      "memory usage: 62.5+ KB\n"
     ]
    }
   ],
   "source": [
    "#As data as outliers, we will replace null columns values with numerical type data by median and categroical null values by mode. \n",
    "data.info()"
   ]
  },
  {
   "cell_type": "code",
   "execution_count": 7,
   "id": "2e3c63f1-432c-48e1-be6d-7eb395d2e31a",
   "metadata": {},
   "outputs": [],
   "source": [
    "num_cols=[\"LoanAmount\",\"Loan_Amount_Term\",\"Credit_History\"]\n",
    "cat_cols=[\"Gender\",\"Married\",\"Dependents\",\"Self_Employed\"]\n",
    "for i in num_cols:\n",
    "    data[i]=data[i].fillna(data[i].median())\n",
    "for i in cat_cols:\n",
    "    data[i]=data[i].fillna(data[i].mode()[0])"
   ]
  },
  {
   "cell_type": "code",
   "execution_count": 8,
   "id": "1b50df13-3937-4fa8-835c-3faf2afa1cad",
   "metadata": {},
   "outputs": [
    {
     "name": "stdout",
     "output_type": "stream",
     "text": [
      "<class 'pandas.core.frame.DataFrame'>\n",
      "RangeIndex: 614 entries, 0 to 613\n",
      "Data columns (total 13 columns):\n",
      " #   Column             Non-Null Count  Dtype  \n",
      "---  ------             --------------  -----  \n",
      " 0   Loan_ID            614 non-null    object \n",
      " 1   Gender             614 non-null    object \n",
      " 2   Married            614 non-null    object \n",
      " 3   Dependents         614 non-null    object \n",
      " 4   Education          614 non-null    object \n",
      " 5   Self_Employed      614 non-null    object \n",
      " 6   ApplicantIncome    614 non-null    int64  \n",
      " 7   CoapplicantIncome  614 non-null    float64\n",
      " 8   LoanAmount         614 non-null    float64\n",
      " 9   Loan_Amount_Term   614 non-null    float64\n",
      " 10  Credit_History     614 non-null    float64\n",
      " 11  Property_Area      614 non-null    object \n",
      " 12  Loan_Status        614 non-null    object \n",
      "dtypes: float64(4), int64(1), object(8)\n",
      "memory usage: 62.5+ KB\n"
     ]
    }
   ],
   "source": [
    "#check\n",
    "data.info()"
   ]
  },
  {
   "cell_type": "markdown",
   "id": "13aacd77-f6e3-4486-9cea-ea9d0055015e",
   "metadata": {},
   "source": [
    "#### 1.3 Handling Outliers"
   ]
  },
  {
   "cell_type": "code",
   "execution_count": 9,
   "id": "0dd25c3a-d39a-4a73-a616-78675ed5a00e",
   "metadata": {
    "scrolled": true
   },
   "outputs": [
    {
     "data": {
      "image/png": "[encoded data removed]",
      "text/plain": [
       "<Figure size 600x400 with 1 Axes>"
      ]
     },
     "metadata": {},
     "output_type": "display_data"
    },
    {
     "data": {
      "image/png": "[encoded data removed]",
      "text/plain": [
       "<Figure size 640x480 with 1 Axes>"
      ]
     },
     "metadata": {},
     "output_type": "display_data"
    },
    {
     "data": {
      "image/png": "[encoded data removed]",
      "text/plain": [
       "<Figure size 640x480 with 1 Axes>"
      ]
     },
     "metadata": {},
     "output_type": "display_data"
    }
   ],
   "source": [
    "#Handling outliers. First let us find outliers by boxplot for numerical value columns.\n",
    "cols_plot=[\"ApplicantIncome\",\"CoapplicantIncome\",\"LoanAmount\"]\n",
    "plt.figure(figsize=(6,4))\n",
    "for i in cols_plot:\n",
    "    sns.boxplot(x=data[i])\n",
    "    plt.show()"
   ]
  },
  {
   "cell_type": "code",
   "execution_count": 10,
   "id": "9328fd46-fc74-43bd-a16b-6fef32707cf3",
   "metadata": {},
   "outputs": [],
   "source": [
    "#Replacing outliers by median.\n",
    "for i in cols_plot:\n",
    "    data[i]=data[i].astype(float)\n",
    "    Q1=data[i].quantile(0.25)\n",
    "    Q3=data[i].quantile(0.75)\n",
    "    IQR=Q3-Q1\n",
    "    lower=Q1-(1.5*IQR)\n",
    "    upper=Q3+(1.5*IQR)\n",
    "    median=data[i].median()\n",
    "    data[i]=data[i].where((data[i]>=lower) & (data[i]<=upper),median)"
   ]
  },
  {
   "cell_type": "code",
   "execution_count": 11,
   "id": "ec47fa97-78fa-4282-9300-0baa27e4a6a4",
   "metadata": {},
   "outputs": [
    {
     "data": {
      "image/png": "[encoded data removed]",
      "text/plain": [
       "<Figure size 600x400 with 1 Axes>"
      ]
     },
     "metadata": {},
     "output_type": "display_data"
    },
    {
     "data": {
      "image/png": "[encoded data removed]",
      "text/plain": [
       "<Figure size 640x480 with 1 Axes>"
      ]
     },
     "metadata": {},
     "output_type": "display_data"
    },
    {
     "data": {
      "image/png": "[encoded data removed]",
      "text/plain": [
       "<Figure size 640x480 with 1 Axes>"
      ]
     },
     "metadata": {},
     "output_type": "display_data"
    }
   ],
   "source": [
    "#check\n",
    "plt.figure(figsize=(6,4))\n",
    "for i in cols_plot:\n",
    "    sns.boxplot(x=data[i])\n",
    "    plt.show()"
   ]
  },
  {
   "cell_type": "markdown",
   "id": "7f5856d9-6512-4913-b7c5-482a8081031a",
   "metadata": {
    "jp-MarkdownHeadingCollapsed": true
   },
   "source": [
    "##### Now, even though the boxplot shows outliers, the outliers have been already handled. The outliers boxplot shows now are for the newer range of IQR. "
   ]
  },
  {
   "cell_type": "markdown",
   "id": "26b12312-4151-4e87-9686-cdaab778b6fe",
   "metadata": {},
   "source": [
    "#### 1.4 Dropping Irrelevant Columns"
   ]
  },
  {
   "cell_type": "code",
   "execution_count": 12,
   "id": "912b9b22-ad72-493e-a326-2a179ce4d13d",
   "metadata": {},
   "outputs": [
    {
     "data": {
      "text/html": [
       "<div>\n",
       "<style scoped>\n",
       "    .dataframe tbody tr th:only-of-type {\n",
       "        vertical-align: middle;\n",
       "    }\n",
       "\n",
       "    .dataframe tbody tr th {\n",
       "        vertical-align: top;\n",
       "    }\n",
       "\n",
       "    .dataframe thead th {\n",
       "        text-align: right;\n",
       "    }\n",
       "</style>\n",
       "<table border=\"1\" class=\"dataframe\">\n",
       "  <thead>\n",
       "    <tr style=\"text-align: right;\">\n",
       "      <th></th>\n",
       "      <th>ApplicantIncome</th>\n",
       "      <th>CoapplicantIncome</th>\n",
       "      <th>LoanAmount</th>\n",
       "      <th>Loan_Amount_Term</th>\n",
       "      <th>Credit_History</th>\n",
       "    </tr>\n",
       "  </thead>\n",
       "  <tbody>\n",
       "    <tr>\n",
       "      <th>ApplicantIncome</th>\n",
       "      <td>1.000000</td>\n",
       "      <td>-0.198660</td>\n",
       "      <td>0.409572</td>\n",
       "      <td>-0.035532</td>\n",
       "      <td>0.043470</td>\n",
       "    </tr>\n",
       "    <tr>\n",
       "      <th>CoapplicantIncome</th>\n",
       "      <td>-0.198660</td>\n",
       "      <td>1.000000</td>\n",
       "      <td>0.220926</td>\n",
       "      <td>-0.005549</td>\n",
       "      <td>0.003795</td>\n",
       "    </tr>\n",
       "    <tr>\n",
       "      <th>LoanAmount</th>\n",
       "      <td>0.409572</td>\n",
       "      <td>0.220926</td>\n",
       "      <td>1.000000</td>\n",
       "      <td>0.079114</td>\n",
       "      <td>-0.007632</td>\n",
       "    </tr>\n",
       "    <tr>\n",
       "      <th>Loan_Amount_Term</th>\n",
       "      <td>-0.035532</td>\n",
       "      <td>-0.005549</td>\n",
       "      <td>0.079114</td>\n",
       "      <td>1.000000</td>\n",
       "      <td>-0.004705</td>\n",
       "    </tr>\n",
       "    <tr>\n",
       "      <th>Credit_History</th>\n",
       "      <td>0.043470</td>\n",
       "      <td>0.003795</td>\n",
       "      <td>-0.007632</td>\n",
       "      <td>-0.004705</td>\n",
       "      <td>1.000000</td>\n",
       "    </tr>\n",
       "  </tbody>\n",
       "</table>\n",
       "</div>"
      ],
      "text/plain": [
       "                   ApplicantIncome  CoapplicantIncome  LoanAmount  \\\n",
       "ApplicantIncome           1.000000          -0.198660    0.409572   \n",
       "CoapplicantIncome        -0.198660           1.000000    0.220926   \n",
       "LoanAmount                0.409572           0.220926    1.000000   \n",
       "Loan_Amount_Term         -0.035532          -0.005549    0.079114   \n",
       "Credit_History            0.043470           0.003795   -0.007632   \n",
       "\n",
       "                   Loan_Amount_Term  Credit_History  \n",
       "ApplicantIncome           -0.035532        0.043470  \n",
       "CoapplicantIncome         -0.005549        0.003795  \n",
       "LoanAmount                 0.079114       -0.007632  \n",
       "Loan_Amount_Term           1.000000       -0.004705  \n",
       "Credit_History            -0.004705        1.000000  "
      ]
     },
     "execution_count": 12,
     "metadata": {},
     "output_type": "execute_result"
    }
   ],
   "source": [
    "data.corr(method=\"pearson\",numeric_only=True)"
   ]
  },
  {
   "cell_type": "markdown",
   "id": "d3959bb2-6778-4cca-9cf1-83b9c031c27f",
   "metadata": {},
   "source": [
    "##### The columns above cannot be dropped as they do impact the predicted outcome collectively even if they have small correlation value.\n",
    "##### Also, columns like Loan_ID and Gender can be dropped directly.Loan_ID is simply a unique identifier and has no relation to loan status approval whatsoever. Considering Gender can create biased models as gender cannot truly be taken as a parameter that decides loan status approval. \n",
    "##### Note: Married can also be reasoned the same, however, including it seems to improve performance of both KNN and Random Forest. More detailed analysis is present in Conclusion."
   ]
  },
  {
   "cell_type": "code",
   "execution_count": 13,
   "id": "b861cbdd-cfb1-4c7d-adbb-0b26d7ee529b",
   "metadata": {},
   "outputs": [
    {
     "data": {
      "image/png": "[encoded data removed]",
      "text/plain": [
       "<Figure size 640x480 with 1 Axes>"
      ]
     },
     "metadata": {},
     "output_type": "display_data"
    }
   ],
   "source": [
    "# considering education column. \n",
    "sns.countplot(x='Education', hue='Loan_Status', data=data)\n",
    "plt.title('Loan Approval by Education Level')\n",
    "plt.show()"
   ]
  },
  {
   "cell_type": "markdown",
   "id": "74ea08a4-0131-4484-be19-029ab92d1442",
   "metadata": {},
   "source": [
    "##### Education status does not seem to impact loan status significantly, but also considering approval rates for graduates(around 70%) and not graduates(around 61%) we cannot call it trivial either. Either way, keeping Education does not reduce any complecity at this point and it can be dropped later we necessary. "
   ]
  },
  {
   "cell_type": "code",
   "execution_count": 14,
   "id": "844fc013-53d4-4e5e-8d3f-b91060b5d2bc",
   "metadata": {},
   "outputs": [
    {
     "data": {
      "image/png": "[encoded data removed]",
      "text/plain": [
       "<Figure size 640x480 with 1 Axes>"
      ]
     },
     "metadata": {},
     "output_type": "display_data"
    }
   ],
   "source": [
    "sns.countplot(x=\"Self_Employed\",hue=\"Loan_Status\",data=data)\n",
    "plt.title(\"Loan Approval by Employment Type\")\n",
    "plt.show()"
   ]
  },
  {
   "cell_type": "markdown",
   "id": "d321e978-a364-4ec5-abed-376a7f9ee87b",
   "metadata": {},
   "source": [
    "##### This case is similar to education level. So we will keep it anyway.\n",
    "##### Also, We will keep Property Area as it does impact loan status because it can be used as collateral. Urban, semi-Urban and rural areas all have different value and thus, it makes a difference in prediction. "
   ]
  },
  {
   "cell_type": "code",
   "execution_count": 15,
   "id": "994b438c-2158-4164-bfb4-e23a8bd3e8fc",
   "metadata": {},
   "outputs": [
    {
     "data": {
      "image/png": "[encoded data removed]",
      "text/plain": [
       "<Figure size 640x480 with 1 Axes>"
      ]
     },
     "metadata": {},
     "output_type": "display_data"
    }
   ],
   "source": [
    "sns.countplot(x=\"Dependents\",hue=\"Loan_Status\",data=data)\n",
    "plt.title(\"Loan Approval by Number of Dependents\")\n",
    "plt.show()"
   ]
  },
  {
   "cell_type": "code",
   "execution_count": 16,
   "id": "f24a3c13-886a-4409-b5f6-980a16f81ba5",
   "metadata": {},
   "outputs": [],
   "source": [
    "#We will keep dependents for now too as it does not clearly show whether it is related or not to loan status."
   ]
  },
  {
   "cell_type": "code",
   "execution_count": 17,
   "id": "50cf2959-609a-4d3c-bb5e-0fe2984a6519",
   "metadata": {},
   "outputs": [],
   "source": [
    "# dropping columns\n",
    "processed_data = data.drop([\"Loan_ID\",\"Gender\"],axis=1)"
   ]
  },
  {
   "cell_type": "markdown",
   "id": "e875b3b2-a21b-4b8a-9916-16dd6f123dc6",
   "metadata": {},
   "source": [
    "### 2. Transforming data"
   ]
  },
  {
   "cell_type": "markdown",
   "id": "b9d2e8f7-37fc-4206-a937-4bfa7df80510",
   "metadata": {},
   "source": [
    "Classification models like logistic regression model, KNN and Random forest all require numeric inputs to train. Thus, we must convert the categorical data in the dataset to numeric."
   ]
  },
  {
   "cell_type": "code",
   "execution_count": 18,
   "id": "f308e3ba-26f1-4315-93f0-765d8c8be772",
   "metadata": {},
   "outputs": [],
   "source": [
    "#Manually converting Loan_Status to numerical(0 or 1) so that it remains the same\n",
    "processed_data[\"Loan_Status\"]=processed_data[\"Loan_Status\"].map({\"Y\":1,\"N\":0})\n",
    "# creating a copy of data to ensure original data remains the same in case of any error\n",
    "data1=processed_data.copy()\n",
    "# converting categorical data to numerical data by unique values in columns\n",
    "data1=pd.get_dummies(data1,drop_first=True)"
   ]
  },
  {
   "cell_type": "markdown",
   "id": "6045aaf5-90cd-47e8-86ec-8244ec7982ef",
   "metadata": {},
   "source": [
    "### 3. Building, Training and Validating the Model"
   ]
  },
  {
   "cell_type": "code",
   "execution_count": 19,
   "id": "80a90881-1ae3-448a-8c2d-97aa7eb902c4",
   "metadata": {},
   "outputs": [],
   "source": [
    "#importing performance measurement tools and spliting tools\n",
    "from sklearn.model_selection import train_test_split\n",
    "from sklearn.metrics import confusion_matrix, accuracy_score,precision_score,recall_score,f1_score\n",
    "#For visuals \n",
    "import matplotlib.pyplot as plt\n",
    "import seaborn as sns"
   ]
  },
  {
   "cell_type": "markdown",
   "id": "cc1527f3-c844-40cb-b1f9-4e88d6e2d125",
   "metadata": {},
   "source": [
    "#### 1. Logistic Regression Model"
   ]
  },
  {
   "cell_type": "code",
   "execution_count": 20,
   "id": "c8de2776-c7e6-4ea2-8115-b55755eee1cd",
   "metadata": {},
   "outputs": [],
   "source": [
    "# importing logistic regression model\n",
    "from sklearn.linear_model import LogisticRegression "
   ]
  },
  {
   "cell_type": "code",
   "execution_count": 21,
   "id": "99df003e-db26-4c80-a68b-38ac0e703b31",
   "metadata": {},
   "outputs": [],
   "source": [
    "#dividing the data into questions(x)-answers(y) format. \n",
    "x=data1.columns\n",
    "x=list(set(x)-set([\"Loan_Status\"]))\n",
    "x=data1[x]\n",
    "y=data1[\"Loan_Status\"]"
   ]
  },
  {
   "cell_type": "code",
   "execution_count": 22,
   "id": "3827094b-755e-4c2c-96da-45a27b287f0f",
   "metadata": {},
   "outputs": [],
   "source": [
    "#spliting the data into train and valid.\n",
    "x_train,x_valid,y_train,y_valid=train_test_split(x,y,test_size=0.3,random_state=0)"
   ]
  },
  {
   "cell_type": "code",
   "execution_count": 23,
   "id": "a7bb0baf-8335-4d7d-8d2a-92aecdd494c0",
   "metadata": {},
   "outputs": [],
   "source": [
    "#because the dataset has been attributes that are unevenly scaled, it gives a convergence error. Therefore,we need to scale the data.\n",
    "from sklearn.preprocessing import StandardScaler\n",
    "scaler=StandardScaler()\n",
    "x_train=scaler.fit_transform(x_train)\n",
    "x_valid=scaler.fit_transform(x_valid)"
   ]
  },
  {
   "cell_type": "code",
   "execution_count": 24,
   "id": "c8257e4f-5aa0-44ff-bd1b-28022f62fc52",
   "metadata": {},
   "outputs": [],
   "source": [
    "# visualization of data can be done later to understand relations between attributes only if the accuracy of logistic regression is bad. This saves time. \n",
    "logistic_model=LogisticRegression()\n",
    "#training the model\n",
    "logistic_model.fit(x_train,y_train)\n",
    "#validating the model by test_x\n",
    "predictions=logistic_model.predict(x_valid)"
   ]
  },
  {
   "cell_type": "code",
   "execution_count": 25,
   "id": "b069052f-9224-4538-96ff-0f3657e2b3a6",
   "metadata": {},
   "outputs": [
    {
     "name": "stdout",
     "output_type": "stream",
     "text": [
      "Accuracy of Logistic Regression Model:  82.70270270270271\n",
      "Precision:  0.8148148148148148\n",
      "Recall Score:  0.9850746268656716\n",
      "f1 Score:  0.8918918918918919\n",
      "Confusion Matrix:  [[ 21  30]\n",
      " [  2 132]]\n"
     ]
    },
    {
     "data": {
      "image/png": "[encoded data removed]",
      "text/plain": [
       "<Figure size 600x400 with 2 Axes>"
      ]
     },
     "metadata": {},
     "output_type": "display_data"
    }
   ],
   "source": [
    "# checking the accuracy of the model\n",
    "accuracy1=accuracy_score(y_valid,predictions)\n",
    "print(\"Accuracy of Logistic Regression Model: \",accuracy1*100)\n",
    "# confusion matrix can used to know how many incorrect predictions were made(FP+FN)\n",
    "confu_matrix=confusion_matrix(y_valid,predictions)\n",
    "#precision tells out of all loan approved predictions, how many were correct on a scale of 0 to 1.\n",
    "precision1=precision_score(y_valid,predictions)\n",
    "print(\"Precision: \",precision1)\n",
    "# Recall Score tells out of all loans approved, how many were correctly predicted on a scale of 0 to 1. \n",
    "recall1=recall_score(y_valid,predictions)\n",
    "print(\"Recall Score: \",recall1)\n",
    "# f1 score as a balance between precision and recall score\n",
    "f1_score1=f1_score(y_valid,predictions)\n",
    "print(\"f1 Score: \",f1_score1)\n",
    "print(\"Confusion Matrix: \",confu_matrix)\n",
    "plt.figure(figsize=(6, 4))\n",
    "sns.heatmap(confu_matrix, annot=True, fmt='d', cmap='Reds')\n",
    "plt.title(\"Heat Map of Confusion Matrix\")\n",
    "plt.xlabel(\"Predicted Labels\")\n",
    "plt.ylabel(\"True Labels\")\n",
    "plt.show()"
   ]
  },
  {
   "cell_type": "markdown",
   "id": "41ec205f-dada-44a8-aa8f-1186646bafbe",
   "metadata": {},
   "source": [
    "#### 2. K Nearest Neighbors Model"
   ]
  },
  {
   "cell_type": "code",
   "execution_count": 26,
   "id": "daa52bd2-36a5-4594-a466-7ff6c9bc50d4",
   "metadata": {},
   "outputs": [],
   "source": [
    "#importing the knn model\n",
    "from sklearn.neighbors import KNeighborsClassifier"
   ]
  },
  {
   "cell_type": "code",
   "execution_count": 27,
   "id": "6f40f67c-947c-45f0-8a08-843aa955807d",
   "metadata": {},
   "outputs": [],
   "source": [
    "#Training KNN model\n",
    "knn=KNeighborsClassifier(n_neighbors=10)\n",
    "knn.fit(x_train,y_train)\n",
    "predictions2=knn.predict(x_valid)"
   ]
  },
  {
   "cell_type": "code",
   "execution_count": 28,
   "id": "c22b835d-f6c4-4b96-8674-c9e926f8ca88",
   "metadata": {},
   "outputs": [
    {
     "name": "stdout",
     "output_type": "stream",
     "text": [
      "Accuracy of KNN Model:  81.08108108108108\n",
      "Confusion Matrix:  [[ 21  30]\n",
      " [  5 129]]\n",
      "Precision:  0.8113207547169812\n",
      "Recall Score:  0.9626865671641791\n",
      "f1 Score:  0.8805460750853242\n"
     ]
    },
    {
     "data": {
      "image/png": "[encoded data removed]",
      "text/plain": [
       "<Figure size 600x400 with 2 Axes>"
      ]
     },
     "metadata": {},
     "output_type": "display_data"
    }
   ],
   "source": [
    "#Performance Measurements\n",
    "accuracy2=accuracy_score(y_valid,predictions2)\n",
    "print(\"Accuracy of KNN Model: \",accuracy2*100)\n",
    "confu_matrix2=confusion_matrix(y_valid,predictions2)\n",
    "print(\"Confusion Matrix: \",confu_matrix2)\n",
    "precision2=precision_score(y_valid,predictions2)\n",
    "print(\"Precision: \",precision2)\n",
    "recall2=recall_score(y_valid,predictions2)\n",
    "print(\"Recall Score: \",recall2)\n",
    "f1_score2=f1_score(y_valid,predictions2)\n",
    "print(\"f1 Score: \",f1_score2)\n",
    "plt.figure(figsize=(6, 4))\n",
    "sns.heatmap(confu_matrix2, annot=True, fmt='d', cmap='Reds')\n",
    "plt.title(\"Heat Map of Confusion Matrix\")\n",
    "plt.xlabel(\"Predicted Labels\")\n",
    "plt.ylabel(\"True Labels\")\n",
    "plt.show()"
   ]
  },
  {
   "cell_type": "markdown",
   "id": "76d06c02-5d5d-438b-b1eb-acbde4ea1729",
   "metadata": {},
   "source": [
    "#### 3. Random Forest Model"
   ]
  },
  {
   "cell_type": "code",
   "execution_count": 29,
   "id": "2d5e05aa-4cca-413f-8136-3d823cd2d0b0",
   "metadata": {},
   "outputs": [],
   "source": [
    "#importing random forest model\n",
    "from sklearn.ensemble import RandomForestClassifier"
   ]
  },
  {
   "cell_type": "code",
   "execution_count": 30,
   "id": "acd492dc-cd39-4844-8a66-2ee9920385a0",
   "metadata": {},
   "outputs": [],
   "source": [
    "#train the model\n",
    "rf=RandomForestClassifier(random_state=42)\n",
    "rf.fit(x_train,y_train)\n",
    "predictions3=rf.predict(x_valid)"
   ]
  },
  {
   "cell_type": "code",
   "execution_count": 31,
   "id": "4005ccc9-4325-47f4-bb15-3c6b8703722c",
   "metadata": {},
   "outputs": [
    {
     "name": "stdout",
     "output_type": "stream",
     "text": [
      "Accuracy of Random Forest Model:  79.45945945945945\n",
      "Confusion Matrix:  [[ 23  28]\n",
      " [ 10 124]]\n",
      "Precision:  0.8157894736842105\n",
      "Recall Score:  0.9253731343283582\n",
      "f1 Score:  0.8671328671328671\n"
     ]
    },
    {
     "data": {
      "image/png": "[encoded data removed]",
      "text/plain": [
       "<Figure size 600x400 with 2 Axes>"
      ]
     },
     "metadata": {},
     "output_type": "display_data"
    }
   ],
   "source": [
    "#Performance Measurements\n",
    "accuracy3=accuracy_score(y_valid,predictions3)\n",
    "print(\"Accuracy of Random Forest Model: \",accuracy3*100)\n",
    "confu_matrix3=confusion_matrix(y_valid,predictions3)\n",
    "print(\"Confusion Matrix: \",confu_matrix3)\n",
    "precision3=precision_score(y_valid,predictions3)\n",
    "print(\"Precision: \",precision3)\n",
    "recall3=recall_score(y_valid,predictions3)\n",
    "print(\"Recall Score: \",recall3)\n",
    "f1_score3=f1_score(y_valid,predictions3)\n",
    "print(\"f1 Score: \",f1_score3)\n",
    "plt.figure(figsize=(6, 4))\n",
    "sns.heatmap(confu_matrix3, annot=True, fmt='d', cmap='Reds')\n",
    "plt.title(\"Heat Map of Confusion Matrix\")\n",
    "plt.xlabel(\"Predicted Labels\")\n",
    "plt.ylabel(\"True Labels\")\n",
    "plt.show()"
   ]
  },
  {
   "cell_type": "markdown",
   "id": "98869038-ca76-4b25-9267-0fd9e32d26a3",
   "metadata": {},
   "source": [
    "### 4. Comparison Between Models"
   ]
  },
  {
   "cell_type": "code",
   "execution_count": 32,
   "id": "e018ec8a-9574-4283-92c5-c82cdf627246",
   "metadata": {},
   "outputs": [
    {
     "data": {
      "text/html": [
       "<div>\n",
       "<style scoped>\n",
       "    .dataframe tbody tr th:only-of-type {\n",
       "        vertical-align: middle;\n",
       "    }\n",
       "\n",
       "    .dataframe tbody tr th {\n",
       "        vertical-align: top;\n",
       "    }\n",
       "\n",
       "    .dataframe thead th {\n",
       "        text-align: right;\n",
       "    }\n",
       "</style>\n",
       "<table border=\"1\" class=\"dataframe\">\n",
       "  <thead>\n",
       "    <tr style=\"text-align: right;\">\n",
       "      <th></th>\n",
       "      <th>Logistic Regression</th>\n",
       "      <th>KNN</th>\n",
       "      <th>Random Forest</th>\n",
       "    </tr>\n",
       "  </thead>\n",
       "  <tbody>\n",
       "    <tr>\n",
       "      <th>Accuracy</th>\n",
       "      <td>0.827027</td>\n",
       "      <td>0.810811</td>\n",
       "      <td>0.794595</td>\n",
       "    </tr>\n",
       "    <tr>\n",
       "      <th>Precision</th>\n",
       "      <td>0.814815</td>\n",
       "      <td>0.811321</td>\n",
       "      <td>0.815789</td>\n",
       "    </tr>\n",
       "    <tr>\n",
       "      <th>Recall</th>\n",
       "      <td>0.985075</td>\n",
       "      <td>0.962687</td>\n",
       "      <td>0.925373</td>\n",
       "    </tr>\n",
       "    <tr>\n",
       "      <th>F1 Score</th>\n",
       "      <td>0.891892</td>\n",
       "      <td>0.880546</td>\n",
       "      <td>0.867133</td>\n",
       "    </tr>\n",
       "  </tbody>\n",
       "</table>\n",
       "</div>"
      ],
      "text/plain": [
       "           Logistic Regression       KNN  Random Forest\n",
       "Accuracy              0.827027  0.810811       0.794595\n",
       "Precision             0.814815  0.811321       0.815789\n",
       "Recall                0.985075  0.962687       0.925373\n",
       "F1 Score              0.891892  0.880546       0.867133"
      ]
     },
     "execution_count": 32,
     "metadata": {},
     "output_type": "execute_result"
    }
   ],
   "source": [
    "acc=[accuracy1,accuracy2,accuracy3]\n",
    "pre=[precision1,precision2,precision3]\n",
    "re=[recall1,recall2,recall3]\n",
    "f=[f1_score1,f1_score2,f1_score3]\n",
    "df = pd.DataFrame({\n",
    "    \"Logistic Regression\": [accuracy1, precision1, recall1, f1_score1],\n",
    "    \"KNN\": [accuracy2, precision2, recall2, f1_score2],\n",
    "    \"Random Forest\": [accuracy3, precision3, recall3, f1_score3]\n",
    "}, index=[\"Accuracy\", \"Precision\", \"Recall\", \"F1 Score\"])\n",
    "df"
   ]
  },
  {
   "cell_type": "code",
   "execution_count": 33,
   "id": "a33ddf80-fe8f-4afe-be34-0a82865f6740",
   "metadata": {},
   "outputs": [
    {
     "data": {
      "text/plain": [
       "Text(0.5, 1.0, 'Performance Measure of Classification Model')"
      ]
     },
     "execution_count": 33,
     "metadata": {},
     "output_type": "execute_result"
    },
    {
     "data": {
      "image/png": "[encoded data removed]",
      "text/plain": [
       "<Figure size 800x600 with 1 Axes>"
      ]
     },
     "metadata": {},
     "output_type": "display_data"
    }
   ],
   "source": [
    "df.plot(kind=\"bar\",figsize=(8,6))\n",
    "plt.ylabel(\"Score\")\n",
    "plt.xlabel(\"Metrics\")\n",
    "plt.title(\"Performance Measure of Classification Model\")"
   ]
  },
  {
   "cell_type": "markdown",
   "id": "8128128d-5ff4-440a-926a-43949f8b605c",
   "metadata": {},
   "source": [
    "### 5. Conclusion-"
   ]
  },
  {
   "cell_type": "markdown",
   "id": "db4296d8-05ab-420a-b7fc-7ce5285535c6",
   "metadata": {},
   "source": [
    "##### 📊 Model Performance Summary (Feature Dropping Impact)\n",
    "| Feature Dropped           | Model               | Accuracy   | Precision  | Recall     | F1 Score   |\n",
    "| ------------------------- | ------------------- | ---------- | ---------- | ---------- | ---------- |\n",
    "| **None** *(Baseline)*     | Logistic Regression | 0.8270     | 0.8148     | 0.9851     | 0.8919     |\n",
    "|                           | KNN                 | 0.8054     | 0.8101     | 0.9552     | 0.8767     |\n",
    "|                           | Random Forest       | **0.8270**     | **0.8148**     | **0.9851**     | **0.8919**     |\n",
    "| **Gender Only**           | Logistic Regression | 0.8270     | 0.8148     | 0.9851     | 0.8919     |\n",
    "|                           | KNN                 | **0.8108** | **0.8113** | **0.9627**     | **0.8805** |\n",
    "|                           | Random Forest       | 0.7892     | 0.8105     | 0.9254     | 0.8641     |\n",
    "| **Married Only**          | Logistic Regression | 0.8270     | 0.8148     | 0.9851     | 0.8919     |\n",
    "|                           | KNN                 |0.8054| 0.8063     |0.9627 | 0.8778     |\n",
    "|                           | Random Forest       | 0.8000     | 0.8129     | 0.9403 | 0.8720 |\n",
    "| **Both Gender & Married** | Logistic Regression | 0.8270     | 0.8148     | 0.9851     | 0.8919     |\n",
    "|                           | KNN                 | 0.7946     | 0.8038     | 0.9478     | 0.8699     |\n",
    "|                           | Random Forest       | 0.7838 | 0.8133 | 0.9104     | 0.8592 |\n"
   ]
  },
  {
   "cell_type": "markdown",
   "id": "43dd24bc-f1c3-4447-a50d-b545d95b0f8d",
   "metadata": {},
   "source": [
    "#### Analysis:\n",
    "##### 1) Logistic Regression Model performs consistently for all cases. It is the most robust and it can be concluded that it predicts based on core parameters such as credit history.\n",
    "##### 2) Random Forest performs best when all parameters are included. However, the decision to drop Gender was necessary to avoid building a biased model as gender cannot be used as a parameter to approve loans.\n",
    "##### 3) KNN Performed best when Gender was excluded.\n",
    "   ##### Note: Gender must be dropped as a parameter to avoid building a biased model even if it including it boosts performance. "
   ]
  },
  {
   "cell_type": "markdown",
   "id": "bce3e141-08e4-4dad-a1ea-c6097fc5af1a",
   "metadata": {},
   "source": [
    "#### Verdict:\n",
    "##### For the given dataset, Logistic Regression Model performs the best out of the three classification models."
   ]
  }
 ],
 "metadata": {
  "kernelspec": {
   "display_name": "Python 3 (ipykernel)",
   "language": "python",
   "name": "python3"
  },
  "language_info": {
   "codemirror_mode": {
    "name": "ipython",
    "version": 3
   },
   "file_extension": ".py",
   "mimetype": "text/x-python",
   "name": "python",
   "nbconvert_exporter": "python",
   "pygments_lexer": "ipython3",
   "version": "3.13.2"
  }
 },
 "nbformat": 4,
 "nbformat_minor": 5
}
